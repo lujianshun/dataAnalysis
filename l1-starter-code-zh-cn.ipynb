{
 "cells": [
  {
   "cell_type": "markdown",
   "metadata": {},
   "source": [
    "在开始之前，使用 iPython 笔记本时有几点需要注意一下：\n",
    "\n",
    "- 如果代码单元格被运行之后，在单元格的左侧方框中会有数字出现。\n",
    "- 当你启动一个新的笔记本会话时，请确保运行所有单元格（从第1个到你上次离开的单元格）。即使笔记本中依然可以看到上次运行所得到的输出，你重新运行的笔记本内核却处于一个完全新的状态，所以你需要重载数据和运行代码。\n",
    "- 上一条注意事项特别重要。当你的答案和课程中的练习不一致时，请试着重载数据并一个一个运行代码单元格，以确保你所操作的变量和数据和练习中的一致。\n",
    "\n",
    "\n",
    "## 从 CSV 加载数据"
   ]
  },
  {
   "cell_type": "code",
   "execution_count": 1,
   "metadata": {},
   "outputs": [],
   "source": [
    "import unicodecsv\n",
    "\n",
    "## 长代码版本 (该版本与短代码版本功能一致)\n",
    "\n",
    "# enrollments = []\n",
    "# f = open('enrollments.csv', 'rb')\n",
    "# reader = unicodecsv.DictReader(f)\n",
    "# for row in reader:\n",
    "#     enrollments.append(row)\n",
    "# f.close()\n",
    "\n",
    "with open('enrollments.csv', 'rb') as f:\n",
    "    reader = unicodecsv.DictReader(f)\n",
    "    enrollments = list(reader)"
   ]
  },
  {
   "cell_type": "code",
   "execution_count": 2,
   "metadata": {},
   "outputs": [
    {
     "data": {
      "text/plain": [
       "{u'account_key': u'256',\n",
       " u'assigned_rating': u'UNGRADED',\n",
       " u'completion_date': u'2015-01-16',\n",
       " u'creation_date': u'2015-01-14',\n",
       " u'lesson_key': u'3176718735',\n",
       " u'processing_state': u'EVALUATED'}"
      ]
     },
     "execution_count": 2,
     "metadata": {},
     "output_type": "execute_result"
    }
   ],
   "source": [
    "#####################################\n",
    "#                 1                 #\n",
    "#####################################\n",
    "\n",
    "## 从 daily_engagement.csv 和 project_submissions.csv 载入数据并存\n",
    "## 储至下面的变量中，然后检查每张表的第1行。\n",
    "\n",
    "def read_csv(filename):\n",
    "    with open(filename, 'rb') as f:\n",
    "        reader = unicodecsv.DictReader(f)\n",
    "        return list(reader)\n",
    "\n",
    "daily_engagement = read_csv('daily-engagement.csv')\n",
    "daily_engagement[0]\n",
    "project_submissions = read_csv('project-submissions.csv')\n",
    "project_submissions[0]"
   ]
  },
  {
   "cell_type": "code",
   "execution_count": 3,
   "metadata": {},
   "outputs": [
    {
     "data": {
      "text/plain": [
       "{u'account_key': u'448',\n",
       " u'cancel_date': u'2015-01-14',\n",
       " u'days_to_cancel': u'65',\n",
       " u'is_canceled': u'True',\n",
       " u'is_udacity': u'True',\n",
       " u'join_date': u'2014-11-10',\n",
       " u'status': u'canceled'}"
      ]
     },
     "execution_count": 3,
     "metadata": {},
     "output_type": "execute_result"
    }
   ],
   "source": [
    "enrollments[0]"
   ]
  },
  {
   "cell_type": "markdown",
   "metadata": {},
   "source": [
    "## 修正数据类型"
   ]
  },
  {
   "cell_type": "code",
   "execution_count": 4,
   "metadata": {},
   "outputs": [
    {
     "data": {
      "text/plain": [
       "{u'account_key': u'448',\n",
       " u'cancel_date': datetime.datetime(2015, 1, 14, 0, 0),\n",
       " u'days_to_cancel': 65,\n",
       " u'is_canceled': True,\n",
       " u'is_udacity': True,\n",
       " u'join_date': datetime.datetime(2014, 11, 10, 0, 0),\n",
       " u'status': u'canceled'}"
      ]
     },
     "execution_count": 4,
     "metadata": {},
     "output_type": "execute_result"
    }
   ],
   "source": [
    "from datetime import datetime as dt\n",
    "\n",
    "# 将字符串格式的时间转为 Python datetime 类型的时间。\n",
    "# 如果没有时间字符串传入，返回 None\n",
    "\n",
    "def parse_date(date):\n",
    "    if date == '':\n",
    "        return None\n",
    "    else:\n",
    "        return dt.strptime(date, '%Y-%m-%d')\n",
    "    \n",
    "# 将可能是空字符串或字符串类型的数据转为 整型 或 None。\n",
    "\n",
    "def parse_maybe_int(i):\n",
    "    if i == '':\n",
    "        return None\n",
    "    else:\n",
    "        return int(i)\n",
    "\n",
    "# 清理 enrollments 表格中的数据类型\n",
    "\n",
    "for enrollment in enrollments:\n",
    "    enrollment['cancel_date'] = parse_date(enrollment['cancel_date'])\n",
    "    enrollment['days_to_cancel'] = parse_maybe_int(enrollment['days_to_cancel'])\n",
    "    enrollment['is_canceled'] = enrollment['is_canceled'] == 'True'\n",
    "    enrollment['is_udacity'] = enrollment['is_udacity'] == 'True'\n",
    "    enrollment['join_date'] = parse_date(enrollment['join_date'])\n",
    "    \n",
    "enrollments[0]"
   ]
  },
  {
   "cell_type": "code",
   "execution_count": 5,
   "metadata": {},
   "outputs": [
    {
     "data": {
      "text/plain": [
       "{u'acct': u'0',\n",
       " u'lessons_completed': 0,\n",
       " u'num_courses_visited': 1,\n",
       " u'projects_completed': 0,\n",
       " u'total_minutes_visited': 11.6793745,\n",
       " u'utc_date': datetime.datetime(2015, 1, 9, 0, 0)}"
      ]
     },
     "execution_count": 5,
     "metadata": {},
     "output_type": "execute_result"
    }
   ],
   "source": [
    "# 清理 engagement 的数据类型\n",
    "for engagement_record in daily_engagement:\n",
    "    engagement_record['lessons_completed'] = int(float(engagement_record['lessons_completed']))\n",
    "    engagement_record['num_courses_visited'] = int(float(engagement_record['num_courses_visited']))\n",
    "    engagement_record['projects_completed'] = int(float(engagement_record['projects_completed']))\n",
    "    engagement_record['total_minutes_visited'] = float(engagement_record['total_minutes_visited'])\n",
    "    engagement_record['utc_date'] = parse_date(engagement_record['utc_date'])\n",
    "    \n",
    "daily_engagement[0]"
   ]
  },
  {
   "cell_type": "code",
   "execution_count": 6,
   "metadata": {},
   "outputs": [
    {
     "data": {
      "text/plain": [
       "{u'account_key': u'256',\n",
       " u'assigned_rating': u'UNGRADED',\n",
       " u'completion_date': datetime.datetime(2015, 1, 16, 0, 0),\n",
       " u'creation_date': datetime.datetime(2015, 1, 14, 0, 0),\n",
       " u'lesson_key': u'3176718735',\n",
       " u'processing_state': u'EVALUATED'}"
      ]
     },
     "execution_count": 6,
     "metadata": {},
     "output_type": "execute_result"
    }
   ],
   "source": [
    "# 清理 submissions 的数据类型\n",
    "for submission in project_submissions:\n",
    "    submission['completion_date'] = parse_date(submission['completion_date'])\n",
    "    submission['creation_date'] = parse_date(submission['creation_date'])\n",
    "\n",
    "project_submissions[0]"
   ]
  },
  {
   "cell_type": "markdown",
   "metadata": {},
   "source": [
    "注意：当我们在运行上方的单元格时，我们已经改变了数据变量中的内容。如果你试着在同一个会话多次运行这些单元格时，可能会出错。\n",
    "\n",
    "## 探索数据"
   ]
  },
  {
   "cell_type": "code",
   "execution_count": 7,
   "metadata": {},
   "outputs": [
    {
     "name": "stdout",
     "output_type": "stream",
     "text": [
      "1640\n",
      "1302\n",
      "136240\n",
      "1237\n",
      "3642\n",
      "743\n"
     ]
    }
   ],
   "source": [
    "#####################################\n",
    "#                 2                 #\n",
    "#####################################\n",
    "\n",
    "## 计算每张表中的总行数，和独立学生（拥有独立的 account keys）的数量\n",
    "\n",
    "def getListBykey(datas,key):\n",
    "    newDatas = set()\n",
    "    for data in datas:\n",
    "        newDatas.add(data[key])\n",
    "    return newDatas\n",
    "\n",
    "print len(enrollments)\n",
    "unique_enrolled_students = getListBykey(enrollments,'account_key')\n",
    "print len(unique_enrolled_students)\n",
    "\n",
    "print len(daily_engagement)\n",
    "unique_engagement_students = getListBykey(daily_engagement,'acct')\n",
    "print len(unique_engagement_students)\n",
    "\n",
    "\n",
    "print len(project_submissions)\n",
    "unique_project_submitters = getListBykey(project_submissions,'account_key')\n",
    "print len(unique_project_submitters)\n",
    "\n",
    "\n"
   ]
  },
  {
   "cell_type": "markdown",
   "metadata": {},
   "source": [
    "## 数据中的问题"
   ]
  },
  {
   "cell_type": "code",
   "execution_count": 8,
   "metadata": {},
   "outputs": [],
   "source": [
    "#####################################\n",
    "#                 3                 #\n",
    "#####################################\n",
    "\n",
    "## 将 daily_engagement 表中的 \"acct\" 重命名为 ”account_key\"\n",
    "for engagement in daily_engagement:\n",
    "    engagement['account_key'] = engagement['acct']\n",
    "    del[engagement['acct']]"
   ]
  },
  {
   "cell_type": "markdown",
   "metadata": {},
   "source": [
    "## 缺失的互动（Engagement）记录"
   ]
  },
  {
   "cell_type": "code",
   "execution_count": 9,
   "metadata": {},
   "outputs": [
    {
     "name": "stdout",
     "output_type": "stream",
     "text": [
      "{u'status': u'canceled', u'is_udacity': False, u'is_canceled': True, u'join_date': datetime.datetime(2014, 11, 12, 0, 0), u'account_key': u'1219', u'cancel_date': datetime.datetime(2014, 11, 12, 0, 0), u'days_to_cancel': 0}\n"
     ]
    }
   ],
   "source": [
    "#####################################\n",
    "#                 4                 #\n",
    "#####################################\n",
    "\n",
    "## 找到任意一个 enrollments 中的学生，但不在 daily engagement 表中。\n",
    "## 打印出这条 enrollments 记录。\n",
    "for enrollment in enrollments:\n",
    "    student = enrollment['account_key']\n",
    "    if student not in unique_engagement_students:\n",
    "        print enrollment\n",
    "        break\n"
   ]
  },
  {
   "cell_type": "markdown",
   "metadata": {},
   "source": [
    "## 检查更多的问题记录"
   ]
  },
  {
   "cell_type": "code",
   "execution_count": 10,
   "metadata": {},
   "outputs": [
    {
     "name": "stdout",
     "output_type": "stream",
     "text": [
      "{u'status': u'canceled', u'is_udacity': True, u'is_canceled': True, u'join_date': datetime.datetime(2015, 1, 10, 0, 0), u'account_key': u'1304', u'cancel_date': datetime.datetime(2015, 3, 10, 0, 0), u'days_to_cancel': 59}\n",
      "{u'status': u'canceled', u'is_udacity': True, u'is_canceled': True, u'join_date': datetime.datetime(2015, 3, 10, 0, 0), u'account_key': u'1304', u'cancel_date': datetime.datetime(2015, 6, 17, 0, 0), u'days_to_cancel': 99}\n",
      "{u'status': u'current', u'is_udacity': True, u'is_canceled': False, u'join_date': datetime.datetime(2015, 2, 25, 0, 0), u'account_key': u'1101', u'cancel_date': None, u'days_to_cancel': None}\n"
     ]
    },
    {
     "data": {
      "text/plain": [
       "3"
      ]
     },
     "execution_count": 10,
     "metadata": {},
     "output_type": "execute_result"
    }
   ],
   "source": [
    "#####################################\n",
    "#                 5                 #\n",
    "#####################################\n",
    "\n",
    "## 计算无众不同的数据点条数（在 enrollments 中存在，但在 engagement 表中缺失）\n",
    "num_problem_students = 0\n",
    "for enrollment in enrollments:\n",
    "    student = enrollment['account_key']\n",
    "    if (student not in unique_engagement_students and \n",
    "            enrollment['join_date'] != enrollment['cancel_date']):\n",
    "        print enrollment\n",
    "        num_problem_students += 1\n",
    "\n",
    "num_problem_students"
   ]
  },
  {
   "cell_type": "markdown",
   "metadata": {},
   "source": [
    "## 追踪剩余的问题"
   ]
  },
  {
   "cell_type": "code",
   "execution_count": 13,
   "metadata": {},
   "outputs": [
    {
     "data": {
      "text/plain": [
       "6"
      ]
     },
     "execution_count": 13,
     "metadata": {},
     "output_type": "execute_result"
    }
   ],
   "source": [
    "# 为所有 Udacity 测试帐号建立一组 set \n",
    "udacity_test_accounts = set()\n",
    "for enrollment in enrollments:\n",
    "    if enrollment['is_udacity']:\n",
    "        udacity_test_accounts.add(enrollment['account_key'])\n",
    "len(udacity_test_accounts)"
   ]
  },
  {
   "cell_type": "code",
   "execution_count": 14,
   "metadata": {},
   "outputs": [],
   "source": [
    "# 通过 account_key 删除所有 Udacity 的测试帐号\n",
    "def remove_udacity_accounts(data):\n",
    "    non_udacity_data = []\n",
    "    for data_point in data:\n",
    "        if data_point['account_key'] not in udacity_test_accounts:\n",
    "            non_udacity_data.append(data_point)\n",
    "    return non_udacity_data"
   ]
  },
  {
   "cell_type": "code",
   "execution_count": 16,
   "metadata": {},
   "outputs": [
    {
     "name": "stdout",
     "output_type": "stream",
     "text": [
      "1622\n",
      "135656\n",
      "3634\n"
     ]
    }
   ],
   "source": [
    "# 从3张表中移除所有 Udacity 的测试帐号\n",
    "non_udacity_enrollments = remove_udacity_accounts(enrollments)\n",
    "non_udacity_engagement = remove_udacity_accounts(daily_engagement)\n",
    "non_udacity_submissions = remove_udacity_accounts(project_submissions)\n",
    "\n",
    "print len(non_udacity_enrollments)\n",
    "print len(non_udacity_engagement)\n",
    "print len(non_udacity_submissions)"
   ]
  },
  {
   "cell_type": "markdown",
   "metadata": {},
   "source": [
    "## 重新定义问题"
   ]
  },
  {
   "cell_type": "code",
   "execution_count": 20,
   "metadata": {},
   "outputs": [
    {
     "data": {
      "text/plain": [
       "769"
      ]
     },
     "execution_count": 20,
     "metadata": {},
     "output_type": "execute_result"
    }
   ],
   "source": [
    "#####################################\n",
    "#                 6                 #\n",
    "#####################################\n",
    "\n",
    "## 创建一个叫 paid_students 的字典，并在字典中存储所有还没有取消或者注册时间超过7天的学生。\n",
    "## 字典的键为帐号（account key），值为学生注册的时间。\n",
    "\n",
    "paid_students = {}\n",
    "for enrollment in non_udacity_enrollments:\n",
    "    if enrollment['is_canceled'] or enrollment['days_to_cancel']>7:\n",
    "        account_key = enrollment['account_key']\n",
    "        join_date = enrollment['join_date']\n",
    "        if account_key not in paid_students or join_date > paid_students[account_key]:\n",
    "            paid_students[account_key] = join_date\n",
    "            \n",
    "len(paid_students)"
   ]
  },
  {
   "cell_type": "markdown",
   "metadata": {},
   "source": [
    "## 获取第1周的数据\n",
    "获取第1周的数据"
   ]
  },
  {
   "cell_type": "code",
   "execution_count": 28,
   "metadata": {},
   "outputs": [],
   "source": [
    "# 基于学生的加入日期和特定一天的互动记录，若该互动记录发生在学生加入1周内，则反回 True\n",
    "\n",
    "def within_one_week(join_date, engagement_date):\n",
    "    time_delta = engagement_date - join_date\n",
    "    return time_delta.days < 7 and time_delta.days >= 0"
   ]
  },
  {
   "cell_type": "code",
   "execution_count": 29,
   "metadata": {},
   "outputs": [
    {
     "name": "stdout",
     "output_type": "stream",
     "text": [
      "1095\n",
      "60518\n",
      "1225\n"
     ]
    },
    {
     "data": {
      "text/plain": [
       "4227"
      ]
     },
     "execution_count": 29,
     "metadata": {},
     "output_type": "execute_result"
    }
   ],
   "source": [
    "#####################################\n",
    "#                 7                 #\n",
    "#####################################\n",
    "\n",
    "## 创建一个 engagement 记录的列表，该列表只包括付费学生以及加入的前7天的学生的记录\n",
    "## 输入符合要求的行数\n",
    "# 移除所有免费学生\n",
    "def remove_free_trial_cancels(datas):\n",
    "    new_datas = []\n",
    "    for data in datas:\n",
    "        if data['account_key'] in paid_students:\n",
    "            new_datas.append(data)\n",
    "    return new_datas\n",
    "\n",
    "paid_enrollments = remove_free_trial_cancels(non_udacity_enrollments)\n",
    "paid_engagement = remove_free_trial_cancels(non_udacity_engagement)\n",
    "paid_submissions = remove_free_trial_cancels(non_udacity_submissions)\n",
    "\n",
    "print len(paid_enrollments)\n",
    "print len(paid_engagement)\n",
    "print len(paid_submissions)\n",
    "\n",
    "paid_engagement_in_first_week = []\n",
    "for engagement_record in paid_engagement:\n",
    "    account_key = engagement_record['account_key']\n",
    "    join_date = paid_students[account_key]\n",
    "    engagement_record_date = engagement_record['utc_date']\n",
    "\n",
    "    if within_one_week(join_date, engagement_record_date):\n",
    "        paid_engagement_in_first_week.append(engagement_record)\n",
    "\n",
    "len(paid_engagement_in_first_week)\n",
    "    \n",
    "    \n"
   ]
  },
  {
   "cell_type": "markdown",
   "metadata": {},
   "source": [
    "## Exploring Student Engagement"
   ]
  },
  {
   "cell_type": "code",
   "execution_count": 38,
   "metadata": {},
   "outputs": [],
   "source": [
    "from collections import defaultdict\n",
    "\n",
    "# 创建基于 student 对 engagement 进行分组的字典，字典的键为帐号（account key），值为包含互动记录的列表\n",
    "def group_data(data,key_name):\n",
    "    group_date  = defaultdict(list)\n",
    "    for data_point in data:\n",
    "        key = data_point[key_name]\n",
    "        group_date[key].append(data_point)\n",
    "    return group_date\n",
    "\n",
    "engagement_by_account = group_data(paid_engagement_in_first_week,'account_key')"
   ]
  },
  {
   "cell_type": "code",
   "execution_count": 48,
   "metadata": {},
   "outputs": [
    {
     "name": "stdout",
     "output_type": "stream",
     "text": [
      " {u'1141': 22.4311658333, u'429': 0.0, u'346': 20.4934486667, u'347': 104.97653, u'343': 83.295313, u'810': 57.3305648333, u'811': 1138.3177014993998, u'813': 105.712802667, u'348': 445.67912983302995, u'815': 65.05537, u'918': 21.086721, u'719': 9.4907925, u'718': 0.0, u'716': 0.0, u'714': 269.1697889997, u'713': 139.060529, u'712': 253.23675750029997, u'710': 3.56199133333, u'661': 92.5547231666, u'660': 193.848226, u'423': 0.0, u'1068': 27.7252703333, u'1061': 44.505795, u'1060': 1768.5227493319999, u'1062': 366.3194163334, u'1065': 290.1569196667, u'1064': 21.8352788333, u'1066': 0.0, u'1258': 93.6202205, u'426': 0.0, u'293': 497.8218254996, u'591': 0.0, u'590': 52.2673098334, u'1085': 21.6134593334, u'1084': 47.2116895, u'1083': 23.5198456667, u'1082': 51.1061375, u'597': 1047.649452501, u'599': 0.0, u'1121': 20.21580533333, u'1122': 52.65627166663, u'1123': 12.6563396667, u'191': 28.86811600007, u'190': 353.05917583350003, u'193': 0.0, u'1088': 0.0, u'270': 1020.3306876671, u'272': 1203.2224428333002, u'275': 0.0, u'279': 375.0586186666, u'738': 13.5082531667, u'524': 85.2622293333, u'525': 0.0, u'520': 109.5149769999, u'521': 406.0453698336, u'523': 0.0, u'1015': 38.87817050003, u'1016': 3.79480166667, u'1017': 19.716442, u'528': 514.0743979996, u'529': 315.94653349997, u'1012': 54.8384126666, u'1013': 4.3800225, u'1234': 0.0, u'1236': 0.0, u'1230': 0.0, u'1232': 48.3124913333, u'1233': 23.7803901666, u'442': 383.48329066596, u'441': 1065.2951291673999, u'440': 45.9874008334, u'447': 119.916663667, u'1239': 0.0, u'444': 0.0, u'108': 164.27089083347, u'101': 148.7306783333, u'106': 211.82116566633, u'105': 312.1800340007, u'903': 15.1275331667, u'900': 0.0, u'906': 0.0, u'907': 0.0, u'904': 228.829723167, u'905': 108.9832133333, u'31': 247.2755796664, u'909': 63.3749175, u'601': 267.87404783297, u'34': 138.178952333, u'641': 340.70627749999994, u'1240': 40.270831, u'1243': 62.9114363333, u'1242': 49.1640855, u'645': 847.3979861667, u'1244': 53.5962256666, u'1247': 79.19556549999999, u'439': 278.8646333337, u'649': 700.4743598327, u'1248': 3.50918183333, u'434': 696.5725646662999, u'431': 77.9742268333, u'339': 0.0, u'338': 0.0, u'335': 855.4038108340001, u'334': 9.55376083333, u'45': 971.1057588333, u'558': 1105.2969810004001, u'855': 92.6896001666, u'856': 0.0, u'857': 0.0, u'850': 39.991625, u'42': 174.3070429999, u'858': 260.94864483347, u'859': 2.54122166667, u'43': 88.822038, u'99': 317.10422516660003, u'98': 525.6444536663, u'91': 70.37317133330001, u'90': 4.842514, u'93': 751.2236896667, u'92': 611.3200641666999, u'97': 494.84799350040004, u'814': 207.882079, u'153': 116.8988095, u'427': 413.5420181666, u'740': 0.0, u'741': 92.538592, u'743': 0.0, u'744': 374.5761038331, u'745': 0.0, u'746': 706.5435295006, u'747': 0.0, u'557': 0.0, u'550': 18.9512853333, u'919': 663.5424139989, u'849': 0.0, u'1199': 4.71476416667, u'1051': 15.5251928333, u'1052': 117.195806333, u'1053': 81.4415533333, u'1054': 0.0, u'1055': 71.5736406667, u'1057': 9.10415, u'1058': 0.0, u'1059': 0.0, u'1193': 5.782099499999999, u'1192': 0.0, u'1195': 0.0, u'1194': 168.1376205, u'1197': 49.0129116667, u'1196': 43.9546585, u'159': 289.1364233334, u'1177': 43.0449731666, u'1279': 459.97761100030004, u'618': 513.8126981664001, u'1174': 76.1418825, u'142': 505.63867666629994, u'143': 405.0228675003, u'140': 174.0351705003, u'1170': 0.0, u'612': 6.40716466667, u'1271': 149.4728798334, u'610': 653.1940411656001, u'611': 382.93037050067, u'1275': 0.0, u'1179': 3.449506, u'1178': 0.0, u'1285': 32.4256981667, u'1287': 0.0, u'1286': 2.0991115, u'1281': 18.7442715, u'1280': 19.3684191667, u'1283': 13.6665331667, u'949': 232.05141450027, u'947': 617.1147665010001, u'944': 122.42059366667, u'945': 264.11247283299997, u'1289': 5.45628333333, u'1288': 172.1458316663, u'940': 296.15271283339996, u'941': 2.99934966667, u'688': 33.0735488333, u'685': 8.99530966667, u'684': 75.34307983330001, u'681': 0.0, u'680': 26.0512206667, u'683': 0.0, u'682': 25.243540000000003, u'458': 0.0, u'1300': 13.387217166669998, u'1301': 6.2021255, u'1226': 0.0, u'873': 30.2541315, u'132': 1196.803629999, u'130': 0.0, u'136': 13.8563716667, u'134': 1017.1034851664001, u'494': 152.3799991667, u'495': 19.9042916667, u'138': 46.4254303333, u'24': 943.188117167, u'25': 0.0, u'1220': 118.30495933329999, u'407': 500.9127926667, u'405': 581.1936856666999, u'404': 611.4195701674, u'402': 81.87143850003, u'933': 38.0166153334, u'932': 0.0, u'930': 0.0, u'937': 160.1049253333, u'936': 0.0, u'935': 22.0394995, u'408': 59.7725306667, u'879': 0.0, u'758': 2.22991233333, u'415': 183.2110681664, u'378': 0.0, u'829': 129.762569, u'828': 345.17664533360005, u'825': 27.3957285, u'824': 260.47024649996, u'827': 10.2700003333, u'826': 0.0, u'821': 106.39895066666999, u'820': 105.114544, u'823': 0.0, u'822': 27.9431673333, u'708': 10.0693165, u'709': 88.0103965, u'147': 416.4968900006, u'704': 0.0, u'705': 0.0, u'706': 1329.9598305, u'700': 122.3289095003, u'701': 916.9439571669, u'702': 0.0, u'703': 31.553383, u'88': 106.16380783330001, u'397': 261.9154958334, u'394': 808.5665558337, u'85': 500.4921706667001, u'796': 0.0, u'795': 368.1520230004, u'793': 0.0, u'792': 1369.641421833, u'790': 0.0, u'141': 544.992658666, u'1272': 151.4460168334, u'587': 175.2765656667, u'1139': 321.75119083367, u'1138': 36.0615348333, u'583': 762.169280667, u'580': 712.1588875006701, u'512': 4.26499566667, u'1133': 1032.4338733330999, u'1132': 90.524217, u'1130': 137.6759001667, u'1137': 54.9204785, u'1135': 2.560646, u'589': 168.39389983367, u'148': 0.0, u'243': 0.0, u'1277': 0.0, u'606': 456.3332818333, u'419': 6.72066133333, u'1009': 0.0, u'1008': 56.112308, u'1007': 59.9798896667, u'1006': 110.42312533340001, u'1005': 10.5366006667, u'1004': 116.0312265, u'1003': 91.4231275, u'514': 62.84829066659999, u'516': 4.70242433333, u'623': 230.70437450010002, u'622': 396.82058733329995, u'1225': 18.1355753333, u'1223': 43.9630845, u'626': 95.1225038333, u'1221': 396.96958649960004, u'624': 1026.8480728333, u'1229': 7.68855966667, u'179': 913.6758890002999, u'178': 783.3383063341, u'174': 414.12743866659997, u'171': 1887.391213833, u'170': 586.7042849994001, u'976': 65.0527071667, u'974': 101.545039833, u'972': 96.1137128333, u'971': 93.4663278333, u'970': 4.42215783333, u'978': 0.0, u'657': 0.0, u'180': 195.8380553337, u'181': 166.14326016626998, u'187': 629.3766914993301, u'650': 114.84451633329999, u'651': 1346.7158483327, u'197': 931.3076661670001, u'659': 2.7180905, u'1124': 0.0, u'185': 0.0, u'1089': 53.190095, u'1127': 14.6313806667, u'869': 19.2950595, u'868': 13.442560666670001, u'15': 983.375040335, u'948': 94.3237553333, u'19': 0.0, u'18': 155.1361575, u'863': 0.0, u'862': 865.994588668, u'865': 0.0, u'864': 53.1295885, u'867': 0.0, u'866': 0.0, u'882': 0.0, u'881': 167.5501213336, u'886': 53.17555666663, u'752': 30.5951761667, u'942': 30.978528, u'943': 15.8825428333, u'322': 0.0, u'323': 397.24734133329997, u'321': 6.39519683333, u'329': 36.151552, u'775': 46.5530623333, u'774': 5.11215066667, u'777': 199.31994916669998, u'776': 0.0, u'771': 155.88907049990001, u'770': 10.4962635, u'772': 44.3639493333, u'208': 356.77551816640005, u'779': 4.2604045, u'778': 48.1974151667, u'679': 2.04971366667, u'76': 17.658779, u'74': 90.48065633329999, u'72': 704.5521115003299, u'71': 9.11465083333, u'655': 0.0, u'79': 416.49598383333, u'78': 0.0, u'1043': 7.087783, u'1042': 45.5670335, u'1041': 720.5718170003, u'1040': 12.9824898333, u'1047': 5.28451266667, u'1046': 15.2956076667, u'1045': 0.0, u'1049': 37.853095, u'1142': 0.0, u'1140': 129.85920366667, u'1268': 11.3308886667, u'1146': 105.57724800007, u'669': 0.0, u'668': 0.0, u'667': 144.1243173333, u'666': 138.052647, u'1261': 440.767162833, u'1260': 0.0, u'663': 0.0, u'1266': 0.0, u'1265': 0.0, u'1264': 2.01734133333, u'1119': 0.0, u'692': 16.604203, u'693': 0.0, u'690': 159.93331549997, u'691': 96.9189933333, u'696': 0.0, u'697': 88.1119545, u'695': 103.5762805, u'1297': 71.2506403333, u'698': 56.45108966666999, u'699': 84.1076063334, u'1118': 89.38367816659999, u'541': 20.879544833329998, u'547': 0.0, u'544': 1421.7436063333, u'1018': 0.0, u'549': 32.0522478333, u'1019': 0.0, u'995': 22.824815, u'994': 4.65228283333, u'991': 37.5090721667, u'993': 32.974715, u'999': 0.0, u'998': 0.0, u'123': 0.0, u'1023': 4.83853366667, u'1022': 23.54994816667, u'1011': 118.71332966671, u'929': 0.0, u'416': 722.84210483367, u'410': 951.118714666, u'411': 0.0, u'412': 108.909706333, u'413': 578.9502861663, u'921': 12.8969723333, u'922': 125.1660011667, u'923': 0.0, u'418': 86.7824926667, u'925': 89.3414406667, u'499': 367.3854126667, u'316': 1735.943607166, u'315': 657.0126268326, u'1134': 7.88990616667, u'833': 2.38093233333, u'830': 23.4222561667, u'831': 51.016355999999995, u'836': 0.0, u'837': 0.0, u'835': 0.0, u'838': 2.7269435, u'839': 13.587055, u'3': 827.9067745000001, u'1305': 9.771473833329999, u'366': 23.55166316667, u'367': 220.21062866679998, u'362': 58.3151085, u'361': 1053.7764165013, u'1175': 2.7094835, u'861': 9.18720066667, u'386': 0.0, u'388': 8.4371975, u'389': 137.83762533337, u'785': 4.78649716667, u'786': 23.695871500029998, u'787': 0.0, u'780': 0.0, u'783': 64.3842428333, u'788': 26.262521333400002, u'860': 223.575494, u'630': 394.5387589999, u'151': 908.4660900005999, u'150': 414.14088366667, u'571': 312.2213373334, u'577': 120.55847799993, u'576': 911.11994133237, u'60': 0.0, u'258': 595.2719906673, u'259': 736.3565788330001, u'64': 346.5030268336, u'65': 422.27366000010005, u'67': 856.8375048337, u'253': 453.2741088337, u'251': 357.82092916600004, u'256': 0.0, u'1161': 87.8123571667, u'157': 8.3032715, u'1172': 0.0, u'602': 615.9597956661, u'731': 0.0, u'730': 41.7199715, u'1038': 0.0, u'732': 219.926066667, u'735': 0.0, u'734': 19.0968998333, u'736': 313.50181033333, u'507': 63.843047333330006, u'504': 388.7726185, u'505': 459.3740381662999, u'502': 39.032082, u'1037': 135.41009083367, u'500': 89.3707275, u'1035': 0.0, u'1212': 0.0, u'631': 237.7646521667, u'1210': 430.7856678337, u'1211': 3.56441583333, u'634': 223.73943383300002, u'1217': 32.0539045, u'636': 169.3917738333, u'637': 89.0572956666, u'465': 53.1803671667, u'639': 416.14186616669997, u'1128': 53.4711175, u'927': 125.44656916667, u'460': 1275.8162838333, u'1169': 294.68697599940003, u'168': 1138.3847963327, u'169': 92.5594045, u'165': 962.5736773336, u'160': 630.1675615003, u'161': 531.8882431671, u'965': 666.393701501, u'966': 26.58431933333, u'960': 26.2942026667, u'961': 16.6918471667, u'962': 18.058401, u'963': 41.4803705, u'1303': 0.0, u'969': 24.9669023333, u'1106': 17.36597533337, u'1107': 73.6289658334, u'1104': 37.43366883333, u'1105': 70.9095216666, u'1102': 0.0, u'1103': 0.0, u'1100': 0.0, u'934': 5.03956, u'908': 92.6088541666, u'1108': 44.9687753333, u'1109': 24.4641525, u'584': 0.0, u'1090': 0.0, u'1091': 9.37827166667, u'640': 0.0, u'876': 77.11207999999999, u'877': 26.5230981667, u'643': 14.4853385, u'723': 104.110932, u'1245': 8.4054255, u'890': 15.1441191667, u'891': 4.37246466666, u'892': 61.0602328333, u'677': 91.7284075, u'894': 152.3783198337, u'895': 495.360191334, u'896': 0.0, u'897': 22.0889656667, u'898': 14.9005318333, u'899': 0.0, u'1246': 84.2202295, u'671': 115.15559099992998, u'1249': 9.62371516667, u'1198': 6.5907805, u'809': 0.0, u'808': 106.2993215, u'801': 0.0, u'800': 122.87407133333, u'807': 7.1250905, u'44': 536.7791768323, u'804': 22.7346656667, u'217': 613.8106874997, u'768': 69.1771198333, u'769': 135.6825435, u'762': 85.29257, u'763': 6.2920505, u'760': 51.0000158333, u'761': 100.06368333333, u'767': 0.0, u'765': 21.6762183333, u'1259': 94.2427361666, u'1078': 16.0970455, u'1076': 94.6577551667, u'1077': 152.213267167, u'1074': 0.0, u'1075': 90.6038805, u'1071': 0.0, u'289': 955.78319766497, u'1112': 44.04796750003, u'5': 329.7578566663, u'283': 149.60442733333002, u'285': 183.17598216667002, u'284': 283.2611105, u'1094': 464.4721495011001, u'1095': 30.0975526667, u'1096': 9.9694705, u'1097': 204.6400418333, u'1159': 19.375742000000002, u'1158': 4.4136665, u'1092': 0.0, u'1093': 38.2254540001, u'675': 30.164617, u'1156': 80.1111541667, u'670': 454.273163499, u'1099': 108.8893720001, u'1153': 565.6616593333, u'1152': 179.409532, u'263': 34.2810203333, u'938': 69.45209899999999, u'261': 0.0, u'265': 371.26458716729996, u'264': 110.09569266679999, u'268': 314.3331800003, u'57': 471.32298133332995, u'51': 0.0, u'62': 293.383122167, u'53': 43.538516166700006, u'52': 3.22752383333, u'534': 609.6590520007001, u'532': 422.6295078334, u'988': 61.420162, u'989': 0.0, u'982': 2.276812, u'983': 0.0, u'980': 20.192891, u'203': 605.7708455, u'984': 188.30785633327, u'985': 46.494977, u'114': 25.4825595, u'111': 169.159592167, u'110': 1214.55291799937, u'113': 83.7769855, u'69': 0.0, u'119': 103.9043659999, u'1256': 77.5208078334, u'1254': 31.2501788333, u'1255': 119.728027, u'1252': 1373.4255323333, u'1253': 0.0, u'915': 0.0, u'917': 36.7759283333, u'916': 65.7383995, u'911': 44.84609, u'910': 6.45888683333, u'913': 72.9583085, u'912': 0.0, u'952': 120.657056167, u'306': 6.61027, u'847': 124.803125333, u'846': 32.6861011667, u'845': 612.8384499997001, u'844': 0.0, u'842': 52.8500076666, u'1126': 449.1316576667, u'848': 0.0, u'144': 0.0, u'662': 47.581505, u'1039': 38.2928665, u'753': 116.628876833, u'569': 1477.0239483322998, u'757': 354.6223496663, u'756': 0.0, u'759': 0.0, u'563': 21.972605, u'564': 581.0392821667, u'987': 63.637865, u'229': 131.7264965, u'1033': 959.9534376661, u'227': 548.4951726663, u'1030': 218.55650866673005, u'221': 178.70479883369998, u'220': 346.78228750000005, u'1024': 243.61925633369998, u'1027': 51.0040081667, u'1026': 13.029178, u'1021': 3.057843, u'1020': 48.19155116660001, u'1188': 200.75333083330003, u'1189': 292.8858635, u'1187': 93.5960798333, u'1184': 0.0, u'1029': 3.50885666667, u'1183': 258.849289167, u'1180': 139.2539564999, u'726': 21.1284496667, u'724': 8.914047, u'722': 29.9067615, u'1034': 23.4161325, u'720': 401.81893949967, u'721': 72.453596, u'729': 0.0, u'1164': 120.8974073333, u'1165': 10.5207108333, u'1166': 0.0, u'1167': 870.43417899963, u'1160': 2.70408483333, u'1208': 114.066953, u'1162': 41.1012255, u'1163': 56.4237046666, u'1205': 0.0, u'1204': 291.7782771666, u'1207': 26.4703245, u'1168': 141.632187333, u'1200': 696.57720983267, u'1203': 0.0, u'1202': 48.67926333336, u'959': 8.31163833333, u'958': 0.0, u'1214': 12.822523, u'951': 0.0, u'953': 406.9125295007, u'1215': 1360.7287001670002, u'955': 240.5959745003, u'954': 91.64868466669999, u'957': 3.37144, u'956': 6.80688283333, u'1111': 0.0, u'1299': 113.791118833, u'1115': 0.0, u'1114': 0.0, u'1117': 0.0, u'1116': 39.334076333329996, u'1292': 233.20550333356, u'1293': 0.0, u'467': 207.27739616670002, u'1294': 16.481668, u'1295': 0.0, u'488': 101.211773667, u'483': 716.3825241659999, u'480': 0.0, u'1201': 395.022838667, u'678': 100.0702155, u'473': 0.0, u'477': 779.5860966676, u'474': 285.75573750030003}\n"
     ]
    }
   ],
   "source": [
    "# 创建一个包含学生在第1周在教室所花总时间和字典。键为帐号（account key），值为数字（所花总时间）\n",
    "def sum_grouped_items(group_data,field_name):\n",
    "    summed_data  = {}\n",
    "    for key, data_points in group_data.items():\n",
    "        total = 0\n",
    "        for data_point in data_points:\n",
    "            total += data_point[field_name]\n",
    "        summed_data[key] = total\n",
    "        \n",
    "    return summed_data\n",
    "    \n",
    "total_minutes_by_account = sum_grouped_items(engagement_by_account,'total_minutes_visited')\n",
    "print total_minutes_by_account"
   ]
  },
  {
   "cell_type": "code",
   "execution_count": 45,
   "metadata": {},
   "outputs": [
    {
     "name": "stdout",
     "output_type": "stream",
     "text": [
      "Mean: 183.388913207\n",
      "Standard deviation: 301.450912657\n",
      "Minimum: 0.0\n",
      "Maximum: 1887.39121383\n"
     ]
    }
   ],
   "source": [
    "import numpy as np\n",
    "\n",
    "def descibe_data(data):\n",
    "    # 汇总和描述关于教室所花时间的数据\n",
    "    print 'Mean:', np.mean(data)\n",
    "    print 'Standard deviation:', np.std(data)\n",
    "    print 'Minimum:', np.min(data)\n",
    "    print 'Maximum:', np.max(data)\n",
    "    \n",
    "total_minutes = total_minutes_by_account.values()\n",
    "descibe_data(total_minutes)\n",
    "\n"
   ]
  },
  {
   "cell_type": "markdown",
   "metadata": {},
   "source": [
    "## 纠错现有的数据分析代码"
   ]
  },
  {
   "cell_type": "code",
   "execution_count": 33,
   "metadata": {},
   "outputs": [
    {
     "data": {
      "text/plain": [
       "1887.391213833"
      ]
     },
     "execution_count": 33,
     "metadata": {},
     "output_type": "execute_result"
    }
   ],
   "source": [
    "#####################################\n",
    "#                 8                 #\n",
    "#####################################\n",
    "\n",
    "## 通过之前的方法检查是否有问题数据存在。\n",
    "## 定位至少一条异常数据，打印出来并检查。\n",
    "student_with_max_minutes = None\n",
    "max_minutes = 0 \n",
    "\n",
    "for student,total_minutes in total_minutes_by_account.items():\n",
    "    if total_minutes > max_minutes:\n",
    "        max_minutes = total_minutes\n",
    "        student_with_max_minutes = student\n",
    "\n",
    "max_minutes"
   ]
  },
  {
   "cell_type": "code",
   "execution_count": 34,
   "metadata": {},
   "outputs": [
    {
     "name": "stdout",
     "output_type": "stream",
     "text": [
      "{u'lessons_completed': 1, u'num_courses_visited': 2, u'total_minutes_visited': 155.964784333, u'projects_completed': 0, 'account_key': u'171', u'utc_date': datetime.datetime(2015, 3, 8, 0, 0)}\n",
      "{u'lessons_completed': 0, u'num_courses_visited': 2, u'total_minutes_visited': 188.414733334, u'projects_completed': 0, 'account_key': u'171', u'utc_date': datetime.datetime(2015, 3, 9, 0, 0)}\n",
      "{u'lessons_completed': 0, u'num_courses_visited': 1, u'total_minutes_visited': 554.302259833, u'projects_completed': 0, 'account_key': u'171', u'utc_date': datetime.datetime(2015, 3, 10, 0, 0)}\n",
      "{u'lessons_completed': 0, u'num_courses_visited': 1, u'total_minutes_visited': 365.751880333, u'projects_completed': 0, 'account_key': u'171', u'utc_date': datetime.datetime(2015, 3, 11, 0, 0)}\n",
      "{u'lessons_completed': 1, u'num_courses_visited': 1, u'total_minutes_visited': 307.215479167, u'projects_completed': 0, 'account_key': u'171', u'utc_date': datetime.datetime(2015, 3, 12, 0, 0)}\n",
      "{u'lessons_completed': 1, u'num_courses_visited': 1, u'total_minutes_visited': 85.5307195, u'projects_completed': 0, 'account_key': u'171', u'utc_date': datetime.datetime(2015, 3, 13, 0, 0)}\n",
      "{u'lessons_completed': 2, u'num_courses_visited': 1, u'total_minutes_visited': 230.211357333, u'projects_completed': 0, 'account_key': u'171', u'utc_date': datetime.datetime(2015, 3, 14, 0, 0)}\n"
     ]
    }
   ],
   "source": [
    "for engagement_record in paid_engagement_in_first_week:\n",
    "    if engagement_record['account_key'] == student_with_max_minutes:\n",
    "        print engagement_record"
   ]
  },
  {
   "cell_type": "markdown",
   "metadata": {},
   "source": [
    "## 第1周完成的课程数（Lessons）"
   ]
  },
  {
   "cell_type": "code",
   "execution_count": 52,
   "metadata": {},
   "outputs": [
    {
     "name": "stdout",
     "output_type": "stream",
     "text": [
      "Mean: 0.808844507846\n",
      "Standard deviation: 1.87497414687\n",
      "Minimum: 0\n",
      "Maximum: 13\n"
     ]
    }
   ],
   "source": [
    "#####################################\n",
    "#                 9                 #\n",
    "#####################################\n",
    "\n",
    "## 修改之前的代码，找出第1周学生完成课程数的 平均值、标准差、最小值、最大值。尝试创建一个或更多的函数来复用之前的代码\n",
    "lessons_completed_by_account = sum_grouped_items(engagement_by_account,'lessons_completed')\n",
    "# print lessons_completed_by_account\n",
    "descibe_data(lessons_completed_by_account.values())    \n",
    "\n"
   ]
  },
  {
   "cell_type": "markdown",
   "metadata": {},
   "source": [
    "## 第1周的访问次数"
   ]
  },
  {
   "cell_type": "code",
   "execution_count": 53,
   "metadata": {},
   "outputs": [
    {
     "name": "stdout",
     "output_type": "stream",
     "text": [
      "Mean: 2.87731811698\n",
      "Standard deviation: 3.04447521369\n",
      "Minimum: 0\n",
      "Maximum: 18\n"
     ]
    }
   ],
   "source": [
    "######################################\n",
    "#                 10                 #\n",
    "######################################\n",
    "\n",
    "## 找出第1周学生访问教室天数的平均值、标准差、最小值、最大值。\n",
    "courses_visited_by_account = sum_grouped_items(engagement_by_account,'num_courses_visited')\n",
    "# print lessons_completed_by_account\n",
    "descibe_data(courses_visited_by_account.values())   "
   ]
  },
  {
   "cell_type": "markdown",
   "metadata": {},
   "source": [
    "## 区分项目通过的学生"
   ]
  },
  {
   "cell_type": "code",
   "execution_count": null,
   "metadata": {
    "collapsed": true
   },
   "outputs": [],
   "source": [
    "######################################\n",
    "#                 11                 #\n",
    "######################################\n",
    "\n",
    "## 创建两个付费学生第1周的互动数据列表（engagement）。第1个包含通过项目的学生，第2个包含没通过项目的学生。\n",
    "\n",
    "subway_project_lesson_keys = ['746169184', '3176718735']\n",
    "\n",
    "passing_engagement =\n",
    "non_passing_engagement ="
   ]
  },
  {
   "cell_type": "markdown",
   "metadata": {},
   "source": [
    "## 对比两组学生数据"
   ]
  },
  {
   "cell_type": "code",
   "execution_count": null,
   "metadata": {
    "collapsed": true
   },
   "outputs": [],
   "source": [
    "######################################\n",
    "#                 12                 #\n",
    "######################################\n",
    "\n",
    "## 计算你所感兴趣的数据指标，并分析通过项目和没有通过项目的两组学生有何异同。\n",
    "## 你可以从我们之前使用过的数据指标开始（教室的访问时间、课程完成数、访问天数）。\n"
   ]
  },
  {
   "cell_type": "markdown",
   "metadata": {},
   "source": [
    "## 制作直方图"
   ]
  },
  {
   "cell_type": "code",
   "execution_count": null,
   "metadata": {
    "collapsed": true
   },
   "outputs": [],
   "source": [
    "######################################\n",
    "#                 13                 #\n",
    "######################################\n",
    "\n",
    "## 针对通过项目和没有通过项目的两组学生，为我们之前研究的三个数据指标制作直方图。\n",
    "## 你也可以为其它你所检验的数据指标来制作直方图。"
   ]
  },
  {
   "cell_type": "markdown",
   "metadata": {},
   "source": [
    "## 改进图表及分享发现"
   ]
  },
  {
   "cell_type": "code",
   "execution_count": null,
   "metadata": {
    "collapsed": true
   },
   "outputs": [],
   "source": [
    "######################################\n",
    "#                 14                 #\n",
    "######################################\n",
    "\n",
    "## 至少改进一幅之前的可视化图表，尝试导入 seaborn 库使你的图表看起来更美观。\n",
    "## 加入轴标签及表头，并修改一个或多个 hist() 内的变量。"
   ]
  }
 ],
 "metadata": {
  "anaconda-cloud": {},
  "kernelspec": {
   "display_name": "Python 2",
   "language": "python",
   "name": "python2"
  },
  "language_info": {
   "codemirror_mode": {
    "name": "ipython",
    "version": 2
   },
   "file_extension": ".py",
   "mimetype": "text/x-python",
   "name": "python",
   "nbconvert_exporter": "python",
   "pygments_lexer": "ipython2",
   "version": "2.7.14"
  }
 },
 "nbformat": 4,
 "nbformat_minor": 1
}
